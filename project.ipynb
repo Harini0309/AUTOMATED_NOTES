{
 "cells": [
  {
   "cell_type": "code",
   "execution_count": 1,
   "id": "9cee154b",
   "metadata": {},
   "outputs": [],
   "source": [
    "#Importing necessary packages\n",
    "import speech_recognition as sr\n",
    "import pyttsx3 as py"
   ]
  },
  {
   "cell_type": "code",
   "execution_count": 2,
   "id": "59f0da6c",
   "metadata": {},
   "outputs": [],
   "source": [
    "#Declaring r\n",
    "\n",
    "r = sr.Recognizer()\n",
    "\n",
    "#Defining SpeakText \n",
    "\n",
    "def SpeakText(command):\n",
    "    engine = py.init()\n",
    "    engine.say(command)\n",
    "    engine.runAndWait()\n",
    "#Whatever printed inside the paranthesis will be voiced     \n",
    "SpeakText(\"This is our voice recognition project\")    "
   ]
  },
  {
   "cell_type": "code",
   "execution_count": 4,
   "id": "ace3b569",
   "metadata": {},
   "outputs": [
    {
     "name": "stdout",
     "output_type": "stream",
     "text": [
      "Silence please, calibrating background noise\n",
      "Calibrated, now speak...\n",
      "hello i am harini\n"
     ]
    }
   ],
   "source": [
    "#Making our microphone as a source\n",
    "with sr.Microphone() as source2:\n",
    "    print(\"Silence please, calibrating background noise\")\n",
    "    r.adjust_for_ambient_noise(source2, duration=3)\n",
    "    print(\"Calibrated, now speak...\")\n",
    "    \n",
    "#Whatever the sentence we say will be listened by the microphone and it will recognise    \n",
    "    \n",
    "    audio2 = r.listen(source2)\n",
    "    \n",
    "    MyText = r.recognize_google(audio2)\n",
    "    MyText = MyText.lower()\n",
    "    print(MyText)"
   ]
  },
  {
   "cell_type": "code",
   "execution_count": 5,
   "id": "205fa07d",
   "metadata": {},
   "outputs": [],
   "source": [
    "#If we want to hear what we said, we can run this cell\n",
    "SpeakText(MyText)"
   ]
  },
  {
   "cell_type": "code",
   "execution_count": 7,
   "id": "c5079a91",
   "metadata": {},
   "outputs": [
    {
     "name": "stdout",
     "output_type": "stream",
     "text": [
      "Collecting FPDF\n",
      "  Downloading fpdf-1.7.2.tar.gz (39 kB)\n",
      "  Preparing metadata (setup.py): started\n",
      "  Preparing metadata (setup.py): finished with status 'done'\n",
      "Building wheels for collected packages: FPDF\n",
      "  Building wheel for FPDF (setup.py): started\n",
      "  Building wheel for FPDF (setup.py): finished with status 'done'\n",
      "  Created wheel for FPDF: filename=fpdf-1.7.2-py2.py3-none-any.whl size=40725 sha256=c5162eaec0328aedef24ed22bf0937b9ad3e9448f740fe3b935e307d71986d28\n",
      "  Stored in directory: c:\\users\\harin\\appdata\\local\\pip\\cache\\wheels\\f9\\95\\ba\\f418094659025eb9611f17cbcaf2334236bf39a0c3453ea455\n",
      "Successfully built FPDF\n",
      "Installing collected packages: FPDF\n",
      "Successfully installed FPDF-1.7.2\n"
     ]
    },
    {
     "name": "stderr",
     "output_type": "stream",
     "text": [
      "WARNING: You are using pip version 21.3.1; however, version 22.3.1 is available.\n",
      "You should consider upgrading via the 'C:\\Users\\harin\\AppData\\Local\\Programs\\Python\\Python310\\python.exe -m pip install --upgrade pip' command.\n"
     ]
    }
   ],
   "source": [
    "!pip install FPDF\n",
    "from fpdf import FPDF"
   ]
  },
  {
   "cell_type": "code",
   "execution_count": 8,
   "id": "6c9de5ec",
   "metadata": {},
   "outputs": [],
   "source": [
    "class PDF(FPDF):\n",
    "     pass"
   ]
  },
  {
   "cell_type": "code",
   "execution_count": 9,
   "id": "ce429a1d",
   "metadata": {},
   "outputs": [],
   "source": [
    "pdf = PDF()\n",
    "pdf = PDF(orientation='P', unit='mm', format='A4')"
   ]
  },
  {
   "cell_type": "code",
   "execution_count": 10,
   "id": "4d225397",
   "metadata": {},
   "outputs": [],
   "source": [
    "class PDF(FPDF):\n",
    "    def lines(self):\n",
    "        self.set_line_width(0.0)\n",
    "        self.line(5.0,5.0,205.0,5.0) \n",
    "        self.line(5.0,292.0,205.0,292.0) \n",
    "        self.line(5.0,5.0,5.0,292.0) \n",
    "        self.line(205.0,5.0,205.0,292.0)"
   ]
  },
  {
   "cell_type": "code",
   "execution_count": 11,
   "id": "9765f7a4",
   "metadata": {},
   "outputs": [],
   "source": [
    "f= open(\"project.txt\",\"w+\")"
   ]
  },
  {
   "cell_type": "code",
   "execution_count": 12,
   "id": "91853741",
   "metadata": {},
   "outputs": [
    {
     "data": {
      "text/plain": [
       "17"
      ]
     },
     "execution_count": 12,
     "metadata": {},
     "output_type": "execute_result"
    }
   ],
   "source": [
    "f.write(MyText)"
   ]
  },
  {
   "cell_type": "code",
   "execution_count": 13,
   "id": "58a5e5ff",
   "metadata": {},
   "outputs": [],
   "source": [
    "f.close()"
   ]
  },
  {
   "cell_type": "code",
   "execution_count": 15,
   "id": "2ac3446f",
   "metadata": {},
   "outputs": [
    {
     "data": {
      "text/plain": [
       "''"
      ]
     },
     "execution_count": 15,
     "metadata": {},
     "output_type": "execute_result"
    }
   ],
   "source": [
    "# save FPDF() class into \n",
    "# a variable pdf\n",
    "pdf = FPDF()   \n",
    "pdf = PDF(orientation='P', unit='mm', format='A4')   \n",
    "# Add a page\n",
    "pdf.add_page()\n",
    "   \n",
    "# set style and size of font \n",
    "# that you want in the pdf\n",
    "pdf.set_font(\"Arial\", size = 15)\n",
    "  \n",
    "# open the text file in read mode\n",
    "f = open(\"project.txt\", \"r\")\n",
    "  \n",
    "# insert the texts in pdf\n",
    "for x in f:\n",
    "    pdf.cell(200, 10, txt = x, ln = 1, align = 'C')\n",
    "   \n",
    "# save the pdf with name .pdf\n",
    "pdf.output(\"hello.pdf\")"
   ]
  },
  {
   "cell_type": "code",
   "execution_count": null,
   "id": "27c1d57e",
   "metadata": {},
   "outputs": [],
   "source": [
    "\n"
   ]
  }
 ],
 "metadata": {
  "kernelspec": {
   "display_name": "Python 3",
   "language": "python",
   "name": "python3"
  },
  "language_info": {
   "codemirror_mode": {
    "name": "ipython",
    "version": 3
   },
   "file_extension": ".py",
   "mimetype": "text/x-python",
   "name": "python",
   "nbconvert_exporter": "python",
   "pygments_lexer": "ipython3",
   "version": "3.10.0"
  },
  "vscode": {
   "interpreter": {
    "hash": "7258d03cdf7076c74c407f67e421cfc13c4ca23fd27d84aadbd3337a71882713"
   }
  }
 },
 "nbformat": 4,
 "nbformat_minor": 5
}
